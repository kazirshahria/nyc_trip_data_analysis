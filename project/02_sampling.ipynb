{
 "cells": [
  {
   "cell_type": "code",
   "execution_count": 1,
   "id": "1c585006",
   "metadata": {},
   "outputs": [],
   "source": [
    "import os\n",
    "import pandas as pd"
   ]
  },
  {
   "cell_type": "code",
   "execution_count": 2,
   "id": "2f6b8f4b",
   "metadata": {},
   "outputs": [],
   "source": [
    "# Range of years and months\n",
    "years = list(range(2020, 2026))\n",
    "months = [\"0\" + str(n) for n in range(1, 10)] + [\"10\", \"11\", \"12\"]"
   ]
  },
  {
   "cell_type": "code",
   "execution_count": 3,
   "id": "1f5ce018",
   "metadata": {},
   "outputs": [
    {
     "data": {
      "text/plain": [
       "36000000"
      ]
     },
     "execution_count": 3,
     "metadata": {},
     "output_type": "execute_result"
    }
   ],
   "source": [
    "# Calculate the number of records from sampling\n",
    "len(years) * len(months) * 500000"
   ]
  },
  {
   "cell_type": "code",
   "execution_count": 4,
   "id": "13d33840",
   "metadata": {},
   "outputs": [
    {
     "name": "stdout",
     "output_type": "stream",
     "text": [
      "[Errno 2] No such file or directory: 'c:\\\\Users\\\\kazir\\\\Desktop\\\\Projects\\\\nyc_trip_data_analysis\\\\project\\\\data\\\\fhv_td\\\\2025\\\\fhv_td_2025-02.parquet': c:\\Users\\kazir\\Desktop\\Projects\\nyc_trip_data_analysis\\project\\data\\fhv_td\\2025\\fhv_td_2025-02.parquet not found\n",
      "[Errno 2] No such file or directory: 'c:\\\\Users\\\\kazir\\\\Desktop\\\\Projects\\\\nyc_trip_data_analysis\\\\project\\\\data\\\\fhv_td\\\\2025\\\\fhv_td_2025-03.parquet': c:\\Users\\kazir\\Desktop\\Projects\\nyc_trip_data_analysis\\project\\data\\fhv_td\\2025\\fhv_td_2025-03.parquet not found\n",
      "[Errno 2] No such file or directory: 'c:\\\\Users\\\\kazir\\\\Desktop\\\\Projects\\\\nyc_trip_data_analysis\\\\project\\\\data\\\\fhv_td\\\\2025\\\\fhv_td_2025-04.parquet': c:\\Users\\kazir\\Desktop\\Projects\\nyc_trip_data_analysis\\project\\data\\fhv_td\\2025\\fhv_td_2025-04.parquet not found\n",
      "[Errno 2] No such file or directory: 'c:\\\\Users\\\\kazir\\\\Desktop\\\\Projects\\\\nyc_trip_data_analysis\\\\project\\\\data\\\\fhv_td\\\\2025\\\\fhv_td_2025-05.parquet': c:\\Users\\kazir\\Desktop\\Projects\\nyc_trip_data_analysis\\project\\data\\fhv_td\\2025\\fhv_td_2025-05.parquet not found\n",
      "[Errno 2] No such file or directory: 'c:\\\\Users\\\\kazir\\\\Desktop\\\\Projects\\\\nyc_trip_data_analysis\\\\project\\\\data\\\\fhv_td\\\\2025\\\\fhv_td_2025-06.parquet': c:\\Users\\kazir\\Desktop\\Projects\\nyc_trip_data_analysis\\project\\data\\fhv_td\\2025\\fhv_td_2025-06.parquet not found\n",
      "[Errno 2] No such file or directory: 'c:\\\\Users\\\\kazir\\\\Desktop\\\\Projects\\\\nyc_trip_data_analysis\\\\project\\\\data\\\\fhv_td\\\\2025\\\\fhv_td_2025-07.parquet': c:\\Users\\kazir\\Desktop\\Projects\\nyc_trip_data_analysis\\project\\data\\fhv_td\\2025\\fhv_td_2025-07.parquet not found\n",
      "[Errno 2] No such file or directory: 'c:\\\\Users\\\\kazir\\\\Desktop\\\\Projects\\\\nyc_trip_data_analysis\\\\project\\\\data\\\\fhv_td\\\\2025\\\\fhv_td_2025-08.parquet': c:\\Users\\kazir\\Desktop\\Projects\\nyc_trip_data_analysis\\project\\data\\fhv_td\\2025\\fhv_td_2025-08.parquet not found\n",
      "[Errno 2] No such file or directory: 'c:\\\\Users\\\\kazir\\\\Desktop\\\\Projects\\\\nyc_trip_data_analysis\\\\project\\\\data\\\\fhv_td\\\\2025\\\\fhv_td_2025-09.parquet': c:\\Users\\kazir\\Desktop\\Projects\\nyc_trip_data_analysis\\project\\data\\fhv_td\\2025\\fhv_td_2025-09.parquet not found\n",
      "[Errno 2] No such file or directory: 'c:\\\\Users\\\\kazir\\\\Desktop\\\\Projects\\\\nyc_trip_data_analysis\\\\project\\\\data\\\\fhv_td\\\\2025\\\\fhv_td_2025-10.parquet': c:\\Users\\kazir\\Desktop\\Projects\\nyc_trip_data_analysis\\project\\data\\fhv_td\\2025\\fhv_td_2025-10.parquet not found\n",
      "[Errno 2] No such file or directory: 'c:\\\\Users\\\\kazir\\\\Desktop\\\\Projects\\\\nyc_trip_data_analysis\\\\project\\\\data\\\\fhv_td\\\\2025\\\\fhv_td_2025-11.parquet': c:\\Users\\kazir\\Desktop\\Projects\\nyc_trip_data_analysis\\project\\data\\fhv_td\\2025\\fhv_td_2025-11.parquet not found\n",
      "[Errno 2] No such file or directory: 'c:\\\\Users\\\\kazir\\\\Desktop\\\\Projects\\\\nyc_trip_data_analysis\\\\project\\\\data\\\\fhv_td\\\\2025\\\\fhv_td_2025-12.parquet': c:\\Users\\kazir\\Desktop\\Projects\\nyc_trip_data_analysis\\project\\data\\fhv_td\\2025\\fhv_td_2025-12.parquet not found\n"
     ]
    }
   ],
   "source": [
    "# Get a random sample\n",
    "dfs = []\n",
    "sample_num = 500000\n",
    "for year in years:\n",
    "    for month in months:\n",
    "        file_name = f\"fhv_td_{year}-{month}.parquet\"\n",
    "        path_name = os.path.join(os.getcwd(), \"data\", \"fhv_td\", str(year), file_name)\n",
    "        try:\n",
    "            temp_df = pd.read_parquet(path_name)\n",
    "            dfs.append(temp_df.sample(sample_num))\n",
    "        except FileNotFoundError as e:\n",
    "            print(f\"{e}: {path_name} not found\")"
   ]
  },
  {
   "cell_type": "code",
   "execution_count": 5,
   "id": "5439e1ad",
   "metadata": {},
   "outputs": [
    {
     "name": "stderr",
     "output_type": "stream",
     "text": [
      "C:\\Users\\kazir\\AppData\\Local\\Temp\\ipykernel_32924\\1854053970.py:2: FutureWarning: The behavior of DataFrame concatenation with empty or all-NA entries is deprecated. In a future version, this will no longer exclude empty or all-NA columns when determining the result dtypes. To retain the old behavior, exclude the relevant entries before the concat operation.\n",
      "  df = pd.concat(dfs)\n"
     ]
    }
   ],
   "source": [
    "# Export to a csv\n",
    "df = pd.concat(dfs)\n",
    "df.drop(columns=\"index\", inplace=True)\n",
    "df.reset_index(drop=True, inplace=True)\n",
    "df.to_csv(\"fhv_data.csv\")"
   ]
  }
 ],
 "metadata": {
  "kernelspec": {
   "display_name": "nyc_trip_data_analysis-o9n9ISVW",
   "language": "python",
   "name": "python3"
  },
  "language_info": {
   "codemirror_mode": {
    "name": "ipython",
    "version": 3
   },
   "file_extension": ".py",
   "mimetype": "text/x-python",
   "name": "python",
   "nbconvert_exporter": "python",
   "pygments_lexer": "ipython3",
   "version": "3.12.0"
  }
 },
 "nbformat": 4,
 "nbformat_minor": 5
}

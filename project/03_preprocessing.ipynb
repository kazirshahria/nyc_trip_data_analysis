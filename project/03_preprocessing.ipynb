{
 "cells": [
  {
   "cell_type": "code",
   "execution_count": 1,
   "id": "ae025c43",
   "metadata": {},
   "outputs": [],
   "source": [
    "import pandas as pd"
   ]
  },
  {
   "cell_type": "code",
   "execution_count": 2,
   "id": "df7af108",
   "metadata": {},
   "outputs": [],
   "source": [
    "# Format of numbers are in decimal format\n",
    "pd.options.display.float_format = '{:.2f}'.format"
   ]
  },
  {
   "cell_type": "code",
   "execution_count": 3,
   "id": "46c622ec",
   "metadata": {},
   "outputs": [
    {
     "data": {
      "text/html": [
       "<div>\n",
       "<style scoped>\n",
       "    .dataframe tbody tr th:only-of-type {\n",
       "        vertical-align: middle;\n",
       "    }\n",
       "\n",
       "    .dataframe tbody tr th {\n",
       "        vertical-align: top;\n",
       "    }\n",
       "\n",
       "    .dataframe thead th {\n",
       "        text-align: right;\n",
       "    }\n",
       "</style>\n",
       "<table border=\"1\" class=\"dataframe\">\n",
       "  <thead>\n",
       "    <tr style=\"text-align: right;\">\n",
       "      <th></th>\n",
       "      <th>hvfhs_license_num</th>\n",
       "      <th>dispatching_base_num</th>\n",
       "      <th>originating_base_num</th>\n",
       "      <th>request_datetime</th>\n",
       "      <th>on_scene_datetime</th>\n",
       "      <th>pickup_datetime</th>\n",
       "      <th>dropoff_datetime</th>\n",
       "      <th>PULocationID</th>\n",
       "      <th>DOLocationID</th>\n",
       "      <th>trip_miles</th>\n",
       "      <th>...</th>\n",
       "      <th>sales_tax</th>\n",
       "      <th>congestion_surcharge</th>\n",
       "      <th>airport_fee</th>\n",
       "      <th>tips</th>\n",
       "      <th>driver_pay</th>\n",
       "      <th>shared_request_flag</th>\n",
       "      <th>shared_match_flag</th>\n",
       "      <th>access_a_ride_flag</th>\n",
       "      <th>wav_request_flag</th>\n",
       "      <th>wav_match_flag</th>\n",
       "    </tr>\n",
       "  </thead>\n",
       "  <tbody>\n",
       "    <tr>\n",
       "      <th>0</th>\n",
       "      <td>HV0003</td>\n",
       "      <td>B02872</td>\n",
       "      <td>B02872</td>\n",
       "      <td>2020-01-01 05:24:21</td>\n",
       "      <td>2020-01-01 05:25:37</td>\n",
       "      <td>2020-01-01 05:26:11</td>\n",
       "      <td>2020-01-01 05:43:33</td>\n",
       "      <td>24</td>\n",
       "      <td>127</td>\n",
       "      <td>6.06</td>\n",
       "      <td>...</td>\n",
       "      <td>2.05</td>\n",
       "      <td>0.00</td>\n",
       "      <td>NaN</td>\n",
       "      <td>0.00</td>\n",
       "      <td>15.23</td>\n",
       "      <td>N</td>\n",
       "      <td>N</td>\n",
       "      <td></td>\n",
       "      <td>N</td>\n",
       "      <td>N</td>\n",
       "    </tr>\n",
       "    <tr>\n",
       "      <th>1</th>\n",
       "      <td>HV0003</td>\n",
       "      <td>B02876</td>\n",
       "      <td>B02876</td>\n",
       "      <td>2020-01-05 18:24:51</td>\n",
       "      <td>2020-01-05 18:27:38</td>\n",
       "      <td>2020-01-05 18:29:58</td>\n",
       "      <td>2020-01-05 18:39:32</td>\n",
       "      <td>87</td>\n",
       "      <td>261</td>\n",
       "      <td>1.30</td>\n",
       "      <td>...</td>\n",
       "      <td>0.82</td>\n",
       "      <td>2.75</td>\n",
       "      <td>NaN</td>\n",
       "      <td>0.00</td>\n",
       "      <td>7.20</td>\n",
       "      <td>N</td>\n",
       "      <td>N</td>\n",
       "      <td></td>\n",
       "      <td>N</td>\n",
       "      <td>N</td>\n",
       "    </tr>\n",
       "    <tr>\n",
       "      <th>2</th>\n",
       "      <td>HV0003</td>\n",
       "      <td>B02764</td>\n",
       "      <td>B02764</td>\n",
       "      <td>2020-01-02 17:12:44</td>\n",
       "      <td>2020-01-02 17:14:11</td>\n",
       "      <td>2020-01-02 17:15:12</td>\n",
       "      <td>2020-01-02 17:31:48</td>\n",
       "      <td>77</td>\n",
       "      <td>63</td>\n",
       "      <td>2.73</td>\n",
       "      <td>...</td>\n",
       "      <td>0.84</td>\n",
       "      <td>0.00</td>\n",
       "      <td>NaN</td>\n",
       "      <td>0.00</td>\n",
       "      <td>11.26</td>\n",
       "      <td>N</td>\n",
       "      <td>N</td>\n",
       "      <td></td>\n",
       "      <td>N</td>\n",
       "      <td>N</td>\n",
       "    </tr>\n",
       "    <tr>\n",
       "      <th>3</th>\n",
       "      <td>HV0003</td>\n",
       "      <td>B02764</td>\n",
       "      <td>B02764</td>\n",
       "      <td>2020-01-20 18:43:02</td>\n",
       "      <td>2020-01-20 18:43:15</td>\n",
       "      <td>2020-01-20 18:44:53</td>\n",
       "      <td>2020-01-20 18:53:57</td>\n",
       "      <td>21</td>\n",
       "      <td>108</td>\n",
       "      <td>1.72</td>\n",
       "      <td>...</td>\n",
       "      <td>1.00</td>\n",
       "      <td>0.00</td>\n",
       "      <td>NaN</td>\n",
       "      <td>0.00</td>\n",
       "      <td>6.37</td>\n",
       "      <td>N</td>\n",
       "      <td>N</td>\n",
       "      <td></td>\n",
       "      <td>N</td>\n",
       "      <td>N</td>\n",
       "    </tr>\n",
       "    <tr>\n",
       "      <th>4</th>\n",
       "      <td>HV0003</td>\n",
       "      <td>B02871</td>\n",
       "      <td>B02871</td>\n",
       "      <td>2020-01-19 23:16:43</td>\n",
       "      <td>2020-01-19 23:26:49</td>\n",
       "      <td>2020-01-19 23:27:50</td>\n",
       "      <td>2020-01-19 23:52:02</td>\n",
       "      <td>36</td>\n",
       "      <td>188</td>\n",
       "      <td>5.05</td>\n",
       "      <td>...</td>\n",
       "      <td>1.47</td>\n",
       "      <td>0.00</td>\n",
       "      <td>NaN</td>\n",
       "      <td>0.00</td>\n",
       "      <td>11.29</td>\n",
       "      <td>Y</td>\n",
       "      <td>Y</td>\n",
       "      <td></td>\n",
       "      <td>N</td>\n",
       "      <td>N</td>\n",
       "    </tr>\n",
       "  </tbody>\n",
       "</table>\n",
       "<p>5 rows × 24 columns</p>\n",
       "</div>"
      ],
      "text/plain": [
       "  hvfhs_license_num dispatching_base_num originating_base_num  \\\n",
       "0            HV0003               B02872               B02872   \n",
       "1            HV0003               B02876               B02876   \n",
       "2            HV0003               B02764               B02764   \n",
       "3            HV0003               B02764               B02764   \n",
       "4            HV0003               B02871               B02871   \n",
       "\n",
       "      request_datetime    on_scene_datetime      pickup_datetime  \\\n",
       "0  2020-01-01 05:24:21  2020-01-01 05:25:37  2020-01-01 05:26:11   \n",
       "1  2020-01-05 18:24:51  2020-01-05 18:27:38  2020-01-05 18:29:58   \n",
       "2  2020-01-02 17:12:44  2020-01-02 17:14:11  2020-01-02 17:15:12   \n",
       "3  2020-01-20 18:43:02  2020-01-20 18:43:15  2020-01-20 18:44:53   \n",
       "4  2020-01-19 23:16:43  2020-01-19 23:26:49  2020-01-19 23:27:50   \n",
       "\n",
       "      dropoff_datetime  PULocationID  DOLocationID  trip_miles  ...  \\\n",
       "0  2020-01-01 05:43:33            24           127        6.06  ...   \n",
       "1  2020-01-05 18:39:32            87           261        1.30  ...   \n",
       "2  2020-01-02 17:31:48            77            63        2.73  ...   \n",
       "3  2020-01-20 18:53:57            21           108        1.72  ...   \n",
       "4  2020-01-19 23:52:02            36           188        5.05  ...   \n",
       "\n",
       "   sales_tax  congestion_surcharge  airport_fee  tips  driver_pay  \\\n",
       "0       2.05                  0.00          NaN  0.00       15.23   \n",
       "1       0.82                  2.75          NaN  0.00        7.20   \n",
       "2       0.84                  0.00          NaN  0.00       11.26   \n",
       "3       1.00                  0.00          NaN  0.00        6.37   \n",
       "4       1.47                  0.00          NaN  0.00       11.29   \n",
       "\n",
       "   shared_request_flag  shared_match_flag  access_a_ride_flag  \\\n",
       "0                    N                  N                       \n",
       "1                    N                  N                       \n",
       "2                    N                  N                       \n",
       "3                    N                  N                       \n",
       "4                    Y                  Y                       \n",
       "\n",
       "   wav_request_flag wav_match_flag  \n",
       "0                 N              N  \n",
       "1                 N              N  \n",
       "2                 N              N  \n",
       "3                 N              N  \n",
       "4                 N              N  \n",
       "\n",
       "[5 rows x 24 columns]"
      ]
     },
     "execution_count": 3,
     "metadata": {},
     "output_type": "execute_result"
    }
   ],
   "source": [
    "# Import data\n",
    "df = pd.read_csv(\"fhv_data.csv\", index_col=[0])\n",
    "df.head()"
   ]
  },
  {
   "cell_type": "code",
   "execution_count": 4,
   "id": "187a2198",
   "metadata": {},
   "outputs": [],
   "source": [
    "# Replace pick up and drop off ids with zone and borough names\n",
    "taxi_lookup = pd.read_csv(\"taxi_zone_lookup.csv\")\n",
    "taxi_lookup = taxi_lookup[[\"LocationID\", \"Zone\", \"Borough\"]].set_index(\"LocationID\")\n",
    "zone_lookup = taxi_lookup[[\"Zone\"]].to_dict()[\"Zone\"]\n",
    "borough_lookup = taxi_lookup[[\"Borough\"]].to_dict()[\"Borough\"]"
   ]
  },
  {
   "cell_type": "code",
   "execution_count": 5,
   "id": "9853ef8f",
   "metadata": {},
   "outputs": [],
   "source": [
    "# Store the zone and boroughs in the dataframe\n",
    "df[\"pu_zone\"] = df[\"PULocationID\"].map(zone_lookup)\n",
    "df[\"pu_borough\"] = df[\"PULocationID\"].map(borough_lookup)\n",
    "df[\"do_zone\"] = df[\"DOLocationID\"].map(zone_lookup)\n",
    "df[\"do_borough\"] = df[\"DOLocationID\"].map(borough_lookup)"
   ]
  },
  {
   "cell_type": "code",
   "execution_count": 6,
   "id": "479ae20a",
   "metadata": {},
   "outputs": [],
   "source": [
    "# Drop the IDs\n",
    "df.drop(columns=[\"PULocationID\", \"DOLocationID\"], inplace=True)"
   ]
  },
  {
   "cell_type": "code",
   "execution_count": 7,
   "id": "128767ef",
   "metadata": {},
   "outputs": [],
   "source": [
    "# Map ride share companies\n",
    "df[\"rideshare_company\"] = df[\"hvfhs_license_num\"].replace(\n",
    "    to_replace=[\"HV0002\", \"HV0003\", \"HV0004\", \"HV0005\"],\n",
    "    value=[\"Juno\", \"Uber\", \"Via\", \"Lyft\"]\n",
    "    )"
   ]
  },
  {
   "cell_type": "code",
   "execution_count": 8,
   "id": "ed868c6d",
   "metadata": {},
   "outputs": [],
   "source": [
    "# Drop extra columns\n",
    "df.drop(columns=[\"hvfhs_license_num\", \"dispatching_base_num\", \"originating_base_num\"], inplace=True)"
   ]
  },
  {
   "cell_type": "code",
   "execution_count": 9,
   "id": "e683bbbd",
   "metadata": {},
   "outputs": [
    {
     "name": "stdout",
     "output_type": "stream",
     "text": [
      "<class 'pandas.core.frame.DataFrame'>\n",
      "Index: 30500000 entries, 0 to 30499999\n",
      "Data columns (total 24 columns):\n",
      " #   Column                Dtype  \n",
      "---  ------                -----  \n",
      " 0   request_datetime      object \n",
      " 1   on_scene_datetime     object \n",
      " 2   pickup_datetime       object \n",
      " 3   dropoff_datetime      object \n",
      " 4   trip_miles            float64\n",
      " 5   trip_time             int64  \n",
      " 6   base_passenger_fare   float64\n",
      " 7   tolls                 float64\n",
      " 8   bcf                   float64\n",
      " 9   sales_tax             float64\n",
      " 10  congestion_surcharge  float64\n",
      " 11  airport_fee           float64\n",
      " 12  tips                  float64\n",
      " 13  driver_pay            float64\n",
      " 14  shared_request_flag   object \n",
      " 15  shared_match_flag     object \n",
      " 16  access_a_ride_flag    object \n",
      " 17  wav_request_flag      object \n",
      " 18  wav_match_flag        object \n",
      " 19  pu_zone               object \n",
      " 20  pu_borough            object \n",
      " 21  do_zone               object \n",
      " 22  do_borough            object \n",
      " 23  rideshare_company     object \n",
      "dtypes: float64(9), int64(1), object(14)\n",
      "memory usage: 5.7+ GB\n"
     ]
    }
   ],
   "source": [
    "# Get info on the dataframe\n",
    "df.info()"
   ]
  },
  {
   "cell_type": "code",
   "execution_count": 10,
   "id": "d9c48db6",
   "metadata": {},
   "outputs": [],
   "source": [
    "# Convert objects to datetimes\n",
    "df[\"request_datetime\"] = pd.to_datetime(df[\"request_datetime\"], format=\"mixed\", errors=\"coerce\")\n",
    "df[\"on_scene_datetime\"] = pd.to_datetime(df[\"on_scene_datetime\"], format=\"mixed\", errors=\"coerce\")\n",
    "df[\"pickup_datetime\"] = pd.to_datetime(df[\"pickup_datetime\"], format=\"mixed\", errors=\"coerce\")\n",
    "df[\"dropoff_datetime\"] = pd.to_datetime(df[\"dropoff_datetime\"], format=\"mixed\", errors=\"coerce\")"
   ]
  },
  {
   "cell_type": "code",
   "execution_count": 11,
   "id": "5337dc78",
   "metadata": {},
   "outputs": [
    {
     "data": {
      "text/plain": [
       "rideshare_company\n",
       "Uber    22168007\n",
       "Lyft     8191827\n",
       "Via       140166\n",
       "Name: count, dtype: int64"
      ]
     },
     "execution_count": 11,
     "metadata": {},
     "output_type": "execute_result"
    }
   ],
   "source": [
    "# Rideshare companies and later filter it to only Uber and Lyft\n",
    "df[\"rideshare_company\"].value_counts()"
   ]
  },
  {
   "cell_type": "code",
   "execution_count": 12,
   "id": "df9725ec",
   "metadata": {},
   "outputs": [
    {
     "data": {
      "text/plain": [
       "(22168007, 24)"
      ]
     },
     "execution_count": 12,
     "metadata": {},
     "output_type": "execute_result"
    }
   ],
   "source": [
    "df = df[(df[\"rideshare_company\"] == \"Uber\")]\n",
    "df.reset_index(drop=True, inplace=True)\n",
    "df.shape"
   ]
  },
  {
   "cell_type": "code",
   "execution_count": 13,
   "id": "c915d614",
   "metadata": {},
   "outputs": [
    {
     "data": {
      "text/plain": [
       "request_datetime              0\n",
       "on_scene_datetime             0\n",
       "pickup_datetime               0\n",
       "dropoff_datetime              0\n",
       "trip_miles                    0\n",
       "trip_time                     0\n",
       "base_passenger_fare           0\n",
       "tolls                         0\n",
       "bcf                           0\n",
       "sales_tax                     0\n",
       "congestion_surcharge          0\n",
       "airport_fee             5358403\n",
       "tips                          0\n",
       "driver_pay                    0\n",
       "shared_request_flag           0\n",
       "shared_match_flag             0\n",
       "access_a_ride_flag            0\n",
       "wav_request_flag              0\n",
       "wav_match_flag                0\n",
       "pu_zone                       0\n",
       "pu_borough                  979\n",
       "do_zone                       0\n",
       "do_borough               823578\n",
       "rideshare_company             0\n",
       "dtype: int64"
      ]
     },
     "execution_count": 13,
     "metadata": {},
     "output_type": "execute_result"
    }
   ],
   "source": [
    "# Check for empty values\n",
    "df.isna().sum()"
   ]
  },
  {
   "cell_type": "code",
   "execution_count": 14,
   "id": "a315b41f",
   "metadata": {},
   "outputs": [],
   "source": [
    "# Drop any rows that are empty \n",
    "df.dropna(inplace=True)\n",
    "df.reset_index(drop=True, inplace=True)"
   ]
  },
  {
   "cell_type": "code",
   "execution_count": 15,
   "id": "aec2cda5",
   "metadata": {},
   "outputs": [
    {
     "data": {
      "text/plain": [
       "request_datetime        0\n",
       "on_scene_datetime       0\n",
       "pickup_datetime         0\n",
       "dropoff_datetime        0\n",
       "trip_miles              0\n",
       "trip_time               0\n",
       "base_passenger_fare     0\n",
       "tolls                   0\n",
       "bcf                     0\n",
       "sales_tax               0\n",
       "congestion_surcharge    0\n",
       "airport_fee             0\n",
       "tips                    0\n",
       "driver_pay              0\n",
       "shared_request_flag     0\n",
       "shared_match_flag       0\n",
       "access_a_ride_flag      0\n",
       "wav_request_flag        0\n",
       "wav_match_flag          0\n",
       "pu_zone                 0\n",
       "pu_borough              0\n",
       "do_zone                 0\n",
       "do_borough              0\n",
       "rideshare_company       0\n",
       "dtype: int64"
      ]
     },
     "execution_count": 15,
     "metadata": {},
     "output_type": "execute_result"
    }
   ],
   "source": [
    "# Double check\n",
    "df.isna().sum()"
   ]
  },
  {
   "cell_type": "code",
   "execution_count": 16,
   "id": "6a0df206",
   "metadata": {},
   "outputs": [
    {
     "data": {
      "text/plain": [
       "np.int64(0)"
      ]
     },
     "execution_count": 16,
     "metadata": {},
     "output_type": "execute_result"
    }
   ],
   "source": [
    "# Check for duplicates\n",
    "df.duplicated().sum()"
   ]
  },
  {
   "cell_type": "code",
   "execution_count": 17,
   "id": "36750560",
   "metadata": {},
   "outputs": [
    {
     "data": {
      "text/plain": [
       "(16072312, 24)"
      ]
     },
     "execution_count": 17,
     "metadata": {},
     "output_type": "execute_result"
    }
   ],
   "source": [
    "# Remove records with base bassenger fare or driver pay less than or equal to $0 and driver pay more than $350\n",
    "df = df[~((df[\"base_passenger_fare\"] <= 0) | (df[\"driver_pay\"] <= 0) | (350 <= df[\"driver_pay\"]))]\n",
    "df.reset_index(drop=True, inplace=True)\n",
    "df.shape"
   ]
  },
  {
   "cell_type": "code",
   "execution_count": 18,
   "id": "7e1e8af3",
   "metadata": {},
   "outputs": [
    {
     "data": {
      "text/plain": [
       "(13880691, 25)"
      ]
     },
     "execution_count": 18,
     "metadata": {},
     "output_type": "execute_result"
    }
   ],
   "source": [
    "# Calculate the percentage of base passenger fare paid to drivers\n",
    "df[\"perct_of_base_fare\"] = df[\"driver_pay\"]/df[\"base_passenger_fare\"]\n",
    "\n",
    "# Filter the data to remove payments less than 25% and greater than 100% (Lyft keeps about 30%)\n",
    "df = df[(df[\"perct_of_base_fare\"] <= 1.00) & (0.25 <= df[\"perct_of_base_fare\"])]\n",
    "df.reset_index(drop=True, inplace=True)\n",
    "df.shape"
   ]
  },
  {
   "cell_type": "code",
   "execution_count": 19,
   "id": "ca22af81",
   "metadata": {},
   "outputs": [],
   "source": [
    "# Export the data to a .csv file\n",
    "df.to_csv(\"fhv_data_fixed.csv\")"
   ]
  }
 ],
 "metadata": {
  "kernelspec": {
   "display_name": "nyc_trip_data_analysis-o9n9ISVW",
   "language": "python",
   "name": "python3"
  },
  "language_info": {
   "codemirror_mode": {
    "name": "ipython",
    "version": 3
   },
   "file_extension": ".py",
   "mimetype": "text/x-python",
   "name": "python",
   "nbconvert_exporter": "python",
   "pygments_lexer": "ipython3",
   "version": "3.12.0"
  }
 },
 "nbformat": 4,
 "nbformat_minor": 5
}
